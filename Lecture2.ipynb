{
 "cells": [
  {
   "cell_type": "markdown",
   "metadata": {},
   "source": [
    "### Арифтметичні операції над Нампай масивами"
   ]
  },
  {
   "cell_type": "code",
   "execution_count": 1,
   "metadata": {},
   "outputs": [
    {
     "name": "stdout",
     "output_type": "stream",
     "text": [
      "\n",
      "Початкова рандомна матриця: \n",
      "[[9 2 6]\n",
      " [0 7 5]\n",
      " [0 2 1]]\n",
      "Початкова матриця ідентичності: \n",
      "[[1. 0. 0.]\n",
      " [0. 1. 0.]\n",
      " [0. 0. 1.]]\n",
      "Арифметичні операції які здйснюються поелементно:\n",
      "Додавання\n",
      "[[11.  3.  7.]\n",
      " [ 1.  9.  6.]\n",
      " [ 1.  3.  3.]] \n",
      "Віднімання\n",
      "[[13.  7. 11.]\n",
      " [ 5. 11. 10.]\n",
      " [ 5.  7.  5.]]\n",
      "Множення і решта операцій (складні вирази)\n",
      "[[ 24. -15.   5.]\n",
      " [-25.  12.   0.]\n",
      " [-25. -15. -24.]]\n",
      "[9 6 7 5]\n",
      "\n"
     ]
    }
   ],
   "source": [
    "import numpy as np\n",
    "rm = np.random.randint(0, 10, size=(3,3))\n",
    "im = np.identity(3)\n",
    "print(f\"\"\"\n",
    "Початкова рандомна матриця: \n",
    "{rm}\n",
    "Початкова матриця ідентичності: \n",
    "{im}\n",
    "Арифметичні операції які здйснюються поелементно:\n",
    "Додавання\n",
    "{rm + im + 1} \n",
    "Віднімання\n",
    "{rm - im + 5}\n",
    "Множення і решта операцій (складні вирази)\n",
    "{(rm - 5) * (im + 5) }\n",
    "{rm[rm >= 5]}\n",
    "\"\"\")"
   ]
  },
  {
   "cell_type": "markdown",
   "metadata": {},
   "source": [
    "### Трохи про вищу математику"
   ]
  },
  {
   "cell_type": "code",
   "execution_count": 2,
   "metadata": {},
   "outputs": [
    {
     "name": "stdout",
     "output_type": "stream",
     "text": [
      "Маємо два масиви:\n",
      " A: \n",
      "[[1 2 3]\n",
      " [2 2 2]\n",
      " [3 3 3]] \n",
      "B: \n",
      "[[ 3  2  1]\n",
      " [ 1  2  3]\n",
      " [-1 -2 -3]]\n",
      "Тут виконується поелементне множення:\n",
      "[[ 3  4  3]\n",
      " [ 2  4  6]\n",
      " [-3 -6 -9]]\n",
      "Тут масиви перемножуються як матриці (np.dot):\n",
      "[[ 2  0 -2]\n",
      " [ 6  4  2]\n",
      " [ 9  6  3]]\n",
      "Тут масиви перетворені на матриці і далі перемножуються:\n",
      "[[ 2  0 -2]\n",
      " [ 6  4  2]\n",
      " [ 9  6  3]] \n",
      "Так само, як і:\n",
      "[[ 2  0 -2]\n",
      " [ 6  4  2]\n",
      " [ 9  6  3]]\n",
      "\n",
      "Детермінант матриці rm: 0.0\n"
     ]
    }
   ],
   "source": [
    "import numpy as np\n",
    "A = np.array([[1, 2, 3], [2, 2, 2], [3, 3, 3]])\n",
    "B = np.array([[3, 2, 1], [1, 2, 3], [-1, -2, -3]])\n",
    "print(f\"Маємо два масиви:\\n A: \\n{A} \\nB: \\n{B}\")\n",
    "R = A * B\n",
    "print(f\"Тут виконується поелементне множення:\\n{R}\")\n",
    "R = np.dot(A, B)\n",
    "print(f\"Тут масиви перемножуються як матриці (np.dot):\\n{R}\")\n",
    "MA = np.matrix(A)\n",
    "MB = np.matrix(B)\n",
    "print(f\"\"\"Тут масиви перетворені на матриці і далі перемножуються:\n",
    "{MA * MB} \n",
    "Так само, як і:\n",
    "{MA.dot(MB)}\n",
    "\"\"\")\n",
    "rm = np.array([[1, 2, 3], [4, 5, 6], [7, 8, 9]])\n",
    "det_rm = np.linalg.det(rm)\n",
    "print(f\"Детермінант матриці rm: {det_rm}\")"
   ]
  },
  {
   "cell_type": "markdown",
   "metadata": {},
   "source": [
    "### Пробуємо вирівнювати масиви"
   ]
  },
  {
   "cell_type": "code",
   "execution_count": 3,
   "metadata": {},
   "outputs": [
    {
     "name": "stdout",
     "output_type": "stream",
     "text": [
      "(3, 3) [[1 2 3]\n",
      " [4 5 6]\n",
      " [7 8 9]]\n",
      "(3,) [1 2 3]\n",
      "(3, 1) [[1]\n",
      " [2]\n",
      " [3]]\n",
      "(1, 3, 1)\n"
     ]
    },
    {
     "data": {
      "text/plain": [
       "array([[[ 2,  3,  4],\n",
       "        [ 6,  7,  8],\n",
       "        [10, 11, 12]]])"
      ]
     },
     "execution_count": 3,
     "metadata": {},
     "output_type": "execute_result"
    }
   ],
   "source": [
    "print(rm.shape, rm)\n",
    "a1 = np.array([1, 2, 3])\n",
    "print(a1.shape, a1)\n",
    "rm + a1\n",
    "a2 = np.array([ [1], [2], [3] ])\n",
    "print(a2.shape, a2)\n",
    "rm + a2\n",
    "A2 = a2[np.newaxis, :]\n",
    "print(A2.shape)\n",
    "rm + A2"
   ]
  }
 ],
 "metadata": {
  "kernelspec": {
   "display_name": "Python 3",
   "language": "python",
   "name": "python3"
  },
  "language_info": {
   "codemirror_mode": {
    "name": "ipython",
    "version": 3
   },
   "file_extension": ".py",
   "mimetype": "text/x-python",
   "name": "python",
   "nbconvert_exporter": "python",
   "pygments_lexer": "ipython3",
   "version": "3.12.3"
  }
 },
 "nbformat": 4,
 "nbformat_minor": 2
}
